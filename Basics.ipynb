{
  "nbformat": 4,
  "nbformat_minor": 0,
  "metadata": {
    "colab": {
      "provenance": []
    },
    "kernelspec": {
      "name": "python3",
      "display_name": "Python 3"
    },
    "language_info": {
      "name": "python"
    }
  },
  "cells": [
    {
      "cell_type": "markdown",
      "source": [
        "# Python Basics\n",
        "\n"
      ],
      "metadata": {
        "id": "p_WGCzsJFFHv"
      }
    },
    {
      "cell_type": "markdown",
      "source": [
        "#Python Basics Questions\n",
        "\n",
        "1. What is Python, and why is it popular\n",
        "- Python is a high-level, interpreted programming language known for its\n",
        "  simplicity and readability. It is popular because of its easy-to-learn syntax, versatility, large community support, and extensive libraries for tasks like web development, data science, automation, and AI.\n",
        "\n",
        "2. What is an interpreter in Python\n",
        "- An **interpreter** in Python is a program that executes Python code line by  \n",
        "  line, converting it into machine-readable instructions. It allows Python to be a dynamically typed and interactive language, enabling immediate execution of code without the need for compilation.\n",
        "  \n",
        "3. What are pre-defined keywords in Python\n",
        "- Pre-defined keywords in Python are reserved words that have special meanings\n",
        "  and cannot be used as variable names, function names, or identifiers. They are part of Python's syntax and serve specific purposes in the language.\n",
        "\n",
        "- Examples of Python Keywords:\n",
        "- Control Flow: if, else, elif, while, for, break, continue, pass\n",
        "- Function & Class: def, return, lambda, class\n",
        "- Exception Handling: try, except, finally, raise\n",
        "\n",
        "4. Can keywords be used as variable names?\n",
        "- No, keywords cannot be used as variable names in Python because they are\n",
        "  reserved for specific language functions and syntax. Using a keyword as a variable name will result in a SyntaxError.\n",
        " - Example:\n",
        " if = 10  #  SyntaxError: invalid syntax\n",
        " print(if)\n",
        "\n",
        " 5. What is mutability in Python?\n",
        " - Mutability refers to whether an object's value can be changed after it is\n",
        "   created. Python objects are classified into mutable and immutable types.\n",
        "\n",
        "- Mutable Objects (Can be changed)\n",
        "Mutable objects allow modifications after creation without changing their identity (memory address).\n",
        "- Examples:\n",
        "*Lists (list)\n",
        "*Dictionaries (dict)\n",
        "*Sets (set)\n",
        "*Byte Arrays (bytearray)\n",
        "\n",
        "6. Why are lists mutable, but tuples are immutable?\n",
        "- Lists are **mutable** because they are designed for dynamic data storage,\n",
        "  allowing modifications like adding, removing, or changing elements in place.  \n",
        "- Tuples are **immutable** to ensure data integrity and efficiency. They are   \n",
        "  stored in a way that prevents modifications, making them **faster** and **safe** for use as dictionary keys or in sets.\n",
        "\n",
        "7. What is the difference between “==” and “is” operators in Python?\n",
        "- **== Operator:-**\n",
        "  To compare objects based on their values, Python’s equality operators (==) are employed. It calls the left object’s __eq__() class method which specifies the criteria for determining equality. However, these constraints are typically written so that the equality operator == returns True if two objects, have the same value and returns False if both have different value.\n",
        "\n",
        "- **'is' Operator:-**\n",
        "Python identity operators (is, is not) are used to compare objects based on their identity. When the variables on either side of an operator point at the exact same object, the “is” operator’s evaluation is true. Otherwise, it would provide us with a false assessment.  \n",
        "\n",
        "8. What are logical operators in Python?\n",
        "- Logical Operators in Python\n",
        "  Logical operators are used to perform Boolean logic operations, typically in conditional statements.\n",
        " Python has three logical operators:-\n",
        " 1.**and:-**\tReturns True if both conditions are True\n",
        " 2.**or:-**   Returns True if at least one condition is True\n",
        " 3.**not:-**  Reverses the Boolean value\n",
        "\n",
        "9. What is type casting in Python?\n",
        "- Type casting in Python is the process of converting one data type to another.\n",
        "  It can be:\n",
        "**Implicit Casting (Automatic):–** Python converts smaller types to larger  types automatically\n",
        "**Explicit Casting (Manual) –** Done using functions like int(), float(), str\n",
        " (), etc.\n",
        "\n",
        "10. What is the difference between implicit and explicit type casting?\n",
        "- **Implicit Type Casting:-**\n",
        "  In implicit type casting, the programming language automatically converts data from one type to another if needed. For example, if you have an integer variable and you try to assign it to a float variable, the programming language will automatically convert the integer to a float without you having to do anything.\n",
        "\n",
        "- **Advantages:-**\n",
        "- Convenience: Implicit casting saves time and effort because you don't have to\n",
        "  manually convert data types.\n",
        "- Automatic: It happens automatically, reducing the chance of errors due to forgetting to convert types.\n",
        "\n",
        "- **Explicit Type Casting:-**\n",
        "  Explicit type casting, also known as type conversion or type coercion, occurs when the programmer explicitly converts a value from one data type to another. Unlike implicit type casting, explicit type casting requires the programmer to specify the desired data type conversion.\n",
        "\n",
        "- **Advantages:**\n",
        "- Control: Explicit type casting gives the programmer more control over the conversion process, allowing for precise manipulation of data types.\n",
        "- Clarity: By explicitly indicating the type conversion, the code becomes more readable and understandable to other developers.\n",
        "\n",
        "11. What is the purpose of conditional statements in Python?\n",
        "- Conditional statements allow a program to make decisions based on conditions.\n",
        "  They control the flow of execution by executing different blocks of code depending on whether a condition is True or False.\n",
        "\n",
        "12. How does the elif statement work?\n",
        "- How the elif Statement Works in Python:-\n",
        "  The elif (short for \"else if\") statement is used to check multiple conditions in a decision-making structure. It allows you to evaluate several conditions sequentially, executing the first one that is True.\n",
        "\n",
        "13. What is the difference between for and while loops?\n",
        "- **For Loop:-**\n",
        "- The for loop is used when you know in advance how many times you want to execute the block of code.\n",
        "- It iterates over a sequence (e.g., a list, tuple, string, or range) and executes the block of code for each item in the sequence.\n",
        "The loop variable (variable) takes the value of each item in the sequence during each iteration.\n",
        "\n",
        "- **While Loop:-**\n",
        "- The while loop is used when you don't know in advance how many times you want\n",
        " to execute the block of code. It continues to execute as long as the specified condition is true.\n",
        "- It's important to make sure that the condition eventually becomes false; otherwise, the loop will run indefinitely, resulting in an infinite loop.\n",
        "\n",
        "14. Describe a scenario where a while loop is more suitable than a for loop.\n",
        "- A while loop is more suitable when the number of iterations is unknown beforehand and depends on a condition being met.\n",
        "\n",
        "Example Scenario: **User Input Validation**\n",
        "- Imagine you are developing a program that asks users to enter a valid password. Since you don’t know how many attempts the user will take, a while loop is better than a for loop.\n"
      ],
      "metadata": {
        "id": "3Bwg4-VQFOMk"
      }
    },
    {
      "cell_type": "markdown",
      "source": [
        "# Practical Questions"
      ],
      "metadata": {
        "id": "ebr-AnYvPu3s"
      }
    },
    {
      "cell_type": "markdown",
      "source": [
        "1.Write a Python program to print \"Hello, World!\"\n"
      ],
      "metadata": {
        "id": "f4_s-YDsP7Vs"
      }
    },
    {
      "cell_type": "code",
      "source": [
        "print(\"Hello, World!\")\n"
      ],
      "metadata": {
        "colab": {
          "base_uri": "https://localhost:8080/"
        },
        "id": "YhjC8jWpP6wX",
        "outputId": "08b93bca-53da-4dd6-b640-0f0aa2283ce8"
      },
      "execution_count": 1,
      "outputs": [
        {
          "output_type": "stream",
          "name": "stdout",
          "text": [
            "Hello, World!\n"
          ]
        }
      ]
    },
    {
      "cell_type": "markdown",
      "source": [
        "2. Write a Python program that displays your name and age."
      ],
      "metadata": {
        "id": "0z5QG3MxS1Yj"
      }
    },
    {
      "cell_type": "code",
      "source": [
        "name = \"Sandesh\"\n",
        "age = 25\n",
        "\n",
        "print(\"My name is\", name)\n",
        "print(\"I am\", age, \"years old\")\n"
      ],
      "metadata": {
        "colab": {
          "base_uri": "https://localhost:8080/"
        },
        "id": "3oBb0Gx4S-Us",
        "outputId": "60a06231-430c-4767-f22f-621687760e67"
      },
      "execution_count": 2,
      "outputs": [
        {
          "output_type": "stream",
          "name": "stdout",
          "text": [
            "My name is Sandesh\n",
            "I am 25 years old\n"
          ]
        }
      ]
    },
    {
      "cell_type": "markdown",
      "source": [
        "3.Write code to print all the pre-defined keywords in Python using the keyword library"
      ],
      "metadata": {
        "id": "jn5RX3L6T3Bi"
      }
    },
    {
      "cell_type": "code",
      "source": [
        "import keyword\n",
        "\n",
        "\n",
        "print(\"Python Keywords:\")\n",
        "print(keyword.kwlist)\n"
      ],
      "metadata": {
        "colab": {
          "base_uri": "https://localhost:8080/"
        },
        "id": "xcpd0XbCUMb9",
        "outputId": "db04f5a7-ff65-4dd3-c091-8bf87e30dc6b"
      },
      "execution_count": 3,
      "outputs": [
        {
          "output_type": "stream",
          "name": "stdout",
          "text": [
            "Python Keywords:\n",
            "['False', 'None', 'True', 'and', 'as', 'assert', 'async', 'await', 'break', 'class', 'continue', 'def', 'del', 'elif', 'else', 'except', 'finally', 'for', 'from', 'global', 'if', 'import', 'in', 'is', 'lambda', 'nonlocal', 'not', 'or', 'pass', 'raise', 'return', 'try', 'while', 'with', 'yield']\n"
          ]
        }
      ]
    },
    {
      "cell_type": "markdown",
      "source": [
        "4. Write a program that checks if a given word is a Python keyword"
      ],
      "metadata": {
        "id": "MqIcFFJMTcUL"
      }
    },
    {
      "cell_type": "code",
      "source": [
        "import keyword\n",
        "\n",
        "word = input(\"Enter a word: \")\n",
        "\n",
        "# Check if it's a Python keyword\n",
        "if keyword.iskeyword(word):\n",
        "    print(f\"'{word}' is a Python keyword.\")\n",
        "else:\n",
        "    print(f\"'{word}' is NOT a Python keyword.\")\n"
      ],
      "metadata": {
        "colab": {
          "base_uri": "https://localhost:8080/"
        },
        "id": "s8ssytCQUFmh",
        "outputId": "9fb0def5-a2db-4500-a01c-0b0f1d755bea"
      },
      "execution_count": 5,
      "outputs": [
        {
          "output_type": "stream",
          "name": "stdout",
          "text": [
            "Enter a word: for\n",
            "'for' is a Python keyword.\n"
          ]
        }
      ]
    },
    {
      "cell_type": "markdown",
      "source": [
        "5.Create a list and tuple in Python, and demonstrate how attempting to change an element works differently for each"
      ],
      "metadata": {
        "id": "t-IPrEZwUEYL"
      }
    },
    {
      "cell_type": "code",
      "source": [
        "# Creating a list (Mutable)\n",
        "my_list = [1, 2, 3]\n",
        "print(\"Original List:\", my_list)\n",
        "\n",
        "# Modifying an element in the list\n",
        "my_list[1] = 99\n",
        "print(\"Modified List:\", my_list)  #  Works fine\n",
        "\n",
        "# Creating a tuple (Immutable)\n",
        "my_tuple = (1, 2, 3)\n",
        "print(\"\\nOriginal Tuple:\", my_tuple)\n",
        "\n",
        "# Attempting to modify an element in the tuple\n",
        "try:\n",
        "    my_tuple[1] = 99  #  This will raise a TypeError\n",
        "except TypeError as e:\n",
        "    print(\"Error:\", e)\n"
      ],
      "metadata": {
        "colab": {
          "base_uri": "https://localhost:8080/"
        },
        "id": "0p5-_z7FUGmR",
        "outputId": "c9afa8df-7276-4e2e-a345-bb028c47b861"
      },
      "execution_count": 6,
      "outputs": [
        {
          "output_type": "stream",
          "name": "stdout",
          "text": [
            "Original List: [1, 2, 3]\n",
            "Modified List: [1, 99, 3]\n",
            "\n",
            "Original Tuple: (1, 2, 3)\n",
            "Error: 'tuple' object does not support item assignment\n"
          ]
        }
      ]
    },
    {
      "cell_type": "markdown",
      "source": [
        "6.Write a function to demonstrate the behavior of mutable and immutable arguments"
      ],
      "metadata": {
        "id": "FqOzFo0mUCUF"
      }
    },
    {
      "cell_type": "code",
      "source": [
        "def modify_values(immutable, mutable):\n",
        "\n",
        "    immutable += 10\n",
        "\n",
        "    mutable.append(4)\n",
        "\n",
        "    print(\"Inside function - Immutable:\", immutable)\n",
        "    print(\"Inside function - Mutable:\", mutable)\n",
        "\n",
        "\n",
        "num = 5\n",
        "numbers = [1, 2, 3]\n",
        "\n",
        "print(\"Before function call - Immutable:\", num)\n",
        "print(\"Before function call - Mutable:\", numbers)\n",
        "\n",
        "\n",
        "modify_values(num, numbers)\n",
        "\n",
        "print(\"After function call - Immutable:\", num)  # Unchanged\n",
        "print(\"After function call - Mutable:\", numbers)  # Changed\n"
      ],
      "metadata": {
        "colab": {
          "base_uri": "https://localhost:8080/"
        },
        "id": "5UJmuvMZUIBx",
        "outputId": "5c0871c2-e637-4c19-8c87-8457ce1dbb05"
      },
      "execution_count": 7,
      "outputs": [
        {
          "output_type": "stream",
          "name": "stdout",
          "text": [
            "Before function call - Immutable: 5\n",
            "Before function call - Mutable: [1, 2, 3]\n",
            "Inside function - Immutable: 15\n",
            "Inside function - Mutable: [1, 2, 3, 4]\n",
            "After function call - Immutable: 5\n",
            "After function call - Mutable: [1, 2, 3, 4]\n"
          ]
        }
      ]
    },
    {
      "cell_type": "markdown",
      "source": [
        "7.Write a program that performs basic arithmetic operations on two user-input numbers"
      ],
      "metadata": {
        "id": "Yur8sX2bUDpD"
      }
    },
    {
      "cell_type": "code",
      "source": [
        "# Get user input\n",
        "num1 = float(input(\"Enter first number: \"))\n",
        "num2 = float(input(\"Enter second number: \"))\n",
        "\n",
        "# Perform arithmetic operations\n",
        "print(f\"\\nAddition: {num1} + {num2} = {num1 + num2}\")\n",
        "print(f\"Subtraction: {num1} - {num2} = {num1 - num2}\")\n",
        "print(f\"Multiplication: {num1} * {num2} = {num1 * num2}\")\n",
        "\n",
        "# Handling division by zero\n",
        "if num2 != 0:\n",
        "    print(f\"Division: {num1} / {num2} = {num1 / num2}\")\n",
        "    print(f\"Floor Division: {num1} // {num2} = {num1 // num2}\")\n",
        "    print(f\"Modulus: {num1} % {num2} = {num1 % num2}\")\n",
        "else:\n",
        "    print(\"Division, Floor Division, and Modulus are undefined for zero divisor.\")\n",
        "\n",
        "print(f\"Exponentiation: {num1} ** {num2} = {num1 ** num2}\")\n"
      ],
      "metadata": {
        "colab": {
          "base_uri": "https://localhost:8080/"
        },
        "id": "jn6j8tsCUJAM",
        "outputId": "6bafd393-b77f-4031-8aa2-9db14ee672b8"
      },
      "execution_count": 8,
      "outputs": [
        {
          "output_type": "stream",
          "name": "stdout",
          "text": [
            "Enter first number: 5\n",
            "Enter second number: 9\n",
            "\n",
            "Addition: 5.0 + 9.0 = 14.0\n",
            "Subtraction: 5.0 - 9.0 = -4.0\n",
            "Multiplication: 5.0 * 9.0 = 45.0\n",
            "Division: 5.0 / 9.0 = 0.5555555555555556\n",
            "Floor Division: 5.0 // 9.0 = 0.0\n",
            "Modulus: 5.0 % 9.0 = 5.0\n",
            "Exponentiation: 5.0 ** 9.0 = 1953125.0\n"
          ]
        }
      ]
    },
    {
      "cell_type": "markdown",
      "source": [
        "8.Write a program to demonstrate the use of logical operators"
      ],
      "metadata": {
        "id": "7L8crgF_UJre"
      }
    },
    {
      "cell_type": "code",
      "source": [
        "\n",
        "a = int(input(\"Enter first number: \"))\n",
        "b = int(input(\"Enter second number: \"))\n",
        "\n",
        "\n",
        "print(\"\\nLogical AND:\")\n",
        "print(f\"({a} > 0 and {b} > 0) →\", a > 0 and b > 0)\n",
        "\n",
        "\n",
        "print(\"\\nLogical OR:\")\n",
        "print(f\"({a} > 0 or {b} > 0) →\", a > 0 or b > 0)\n",
        "\n",
        "\n",
        "print(\"\\nLogical NOT:\")\n",
        "print(f\"not({a} > 0) →\", not (a > 0))\n"
      ],
      "metadata": {
        "colab": {
          "base_uri": "https://localhost:8080/"
        },
        "id": "F2z3Ed91UKaX",
        "outputId": "2b78978e-e054-45e7-8f5b-8645cc29b7c7"
      },
      "execution_count": 9,
      "outputs": [
        {
          "output_type": "stream",
          "name": "stdout",
          "text": [
            "Enter first number: 5\n",
            "Enter second number: -3\n",
            "\n",
            "Logical AND:\n",
            "(5 > 0 and -3 > 0) → False\n",
            "\n",
            "Logical OR:\n",
            "(5 > 0 or -3 > 0) → True\n",
            "\n",
            "Logical NOT:\n",
            "not(5 > 0) → False\n"
          ]
        }
      ]
    },
    {
      "cell_type": "markdown",
      "source": [
        "9.Write a Python program to convert user input from string to integer, float, and boolean types"
      ],
      "metadata": {
        "id": "Os6x9h8fUOp7"
      }
    },
    {
      "cell_type": "code",
      "source": [
        "user_input = input(\"Enter a value: \")\n",
        "\n",
        "\n",
        "try:\n",
        "    int_value = int(user_input)\n",
        "    print(f\"Integer Conversion: {int_value}\")\n",
        "except ValueError:\n",
        "    print(\"Cannot convert to integer.\")\n",
        "\n",
        "try:\n",
        "    float_value = float(user_input)\n",
        "    print(f\"Float Conversion: {float_value}\")\n",
        "except ValueError:\n",
        "    print(\"Cannot convert to float.\")\n",
        "\n",
        "\n",
        "bool_value = bool(user_input)\n",
        "print(f\"Boolean Conversion: {bool_value}\")\n"
      ],
      "metadata": {
        "colab": {
          "base_uri": "https://localhost:8080/"
        },
        "id": "WfrPOZdRUPy3",
        "outputId": "e8b8a2cf-b0ef-4de3-9814-67f3186b8936"
      },
      "execution_count": 10,
      "outputs": [
        {
          "output_type": "stream",
          "name": "stdout",
          "text": [
            "Enter a value: 10\n",
            "Integer Conversion: 10\n",
            "Float Conversion: 10.0\n",
            "Boolean Conversion: True\n"
          ]
        }
      ]
    },
    {
      "cell_type": "markdown",
      "source": [
        "10.Write code to demonstrate type casting with list elements."
      ],
      "metadata": {
        "id": "Q3XJBclXUQf7"
      }
    },
    {
      "cell_type": "code",
      "source": [
        "\n",
        "str_list = [\"10\", \"20\", \"30\", \"3.5\", \"\", \"0\", \"True\", \"False\"]\n",
        "\n",
        "\n",
        "int_list = []\n",
        "for item in str_list:\n",
        "    try:\n",
        "        int_list.append(int(item))\n",
        "    except ValueError:\n",
        "        int_list.append(None)\n",
        "\n",
        "print(\"Integer List:\", int_list)\n",
        "\n",
        "\n",
        "float_list = []\n",
        "for item in str_list:\n",
        "    try:\n",
        "        float_list.append(float(item))\n",
        "    except ValueError:\n",
        "        float_list.append(None)\n",
        "\n",
        "print(\"Float List:\", float_list)\n",
        "\n",
        "\n",
        "bool_list = [bool(item) for item in str_list]\n",
        "\n",
        "print(\"Boolean List:\", bool_list)\n"
      ],
      "metadata": {
        "colab": {
          "base_uri": "https://localhost:8080/"
        },
        "id": "Y1a6URWQURIi",
        "outputId": "6c7396ab-2ba3-49f4-8533-ba5d0db6f0b8"
      },
      "execution_count": 11,
      "outputs": [
        {
          "output_type": "stream",
          "name": "stdout",
          "text": [
            "Integer List: [10, 20, 30, None, None, 0, None, None]\n",
            "Float List: [10.0, 20.0, 30.0, 3.5, None, 0.0, None, None]\n",
            "Boolean List: [True, True, True, True, False, True, True, True]\n"
          ]
        }
      ]
    },
    {
      "cell_type": "markdown",
      "source": [
        "11.Write a program that checks if a number is positive, negative, or zero."
      ],
      "metadata": {
        "id": "4t5fpvwuYbVR"
      }
    },
    {
      "cell_type": "code",
      "source": [
        "\n",
        "num = float(input(\"Enter a number: \"))\n",
        "\n",
        "\n",
        "if num > 0:\n",
        "    print(\"The number is Positive.\")\n",
        "elif num < 0:\n",
        "    print(\"The number is Negative.\")\n",
        "else:\n",
        "    print(\"The number is Zero.\")\n"
      ],
      "metadata": {
        "colab": {
          "base_uri": "https://localhost:8080/"
        },
        "id": "VkUN-EfSUSlR",
        "outputId": "59bf5989-ccf7-488e-9cfa-a9e342f362f7"
      },
      "execution_count": 12,
      "outputs": [
        {
          "output_type": "stream",
          "name": "stdout",
          "text": [
            "Enter a number: 5\n",
            "The number is Positive.\n"
          ]
        }
      ]
    },
    {
      "cell_type": "markdown",
      "source": [
        "12.Write a for loop to print numbers from 1 to 10."
      ],
      "metadata": {
        "id": "RXDU_3e1YrF1"
      }
    },
    {
      "cell_type": "code",
      "source": [
        "for num in range(1, 11):\n",
        "    print(num)\n"
      ],
      "metadata": {
        "colab": {
          "base_uri": "https://localhost:8080/"
        },
        "id": "snXNQnS8UWUA",
        "outputId": "994c7cd1-5818-4f63-afc4-df9b1349b90a"
      },
      "execution_count": 13,
      "outputs": [
        {
          "output_type": "stream",
          "name": "stdout",
          "text": [
            "1\n",
            "2\n",
            "3\n",
            "4\n",
            "5\n",
            "6\n",
            "7\n",
            "8\n",
            "9\n",
            "10\n"
          ]
        }
      ]
    },
    {
      "cell_type": "markdown",
      "source": [
        "13.Write a Python program to find the sum of all even numbers between 1 and 50."
      ],
      "metadata": {
        "id": "JnhpngR5UXHp"
      }
    },
    {
      "cell_type": "code",
      "source": [
        "\n",
        "even_sum = 0\n",
        "\n",
        "for num in range(2, 51, 2):\n",
        "    even_sum += num\n",
        "\n",
        "print(\"Sum of all even numbers between 1 and 50:\", even_sum)\n"
      ],
      "metadata": {
        "colab": {
          "base_uri": "https://localhost:8080/"
        },
        "id": "T5XbgWOyUXtp",
        "outputId": "efe10e55-6c9e-465f-814c-6204a7015383"
      },
      "execution_count": 14,
      "outputs": [
        {
          "output_type": "stream",
          "name": "stdout",
          "text": [
            "Sum of all even numbers between 1 and 50: 650\n"
          ]
        }
      ]
    },
    {
      "cell_type": "markdown",
      "source": [
        "14.Write a program to reverse a string using a while loop"
      ],
      "metadata": {
        "id": "7t8xTEr8UYX0"
      }
    },
    {
      "cell_type": "code",
      "source": [
        "\n",
        "text = input(\"Enter a string: \")\n",
        "\n",
        "reversed_text = \"\"\n",
        "index = len(text) - 1\n",
        "\n",
        "\n",
        "while index >= 0:\n",
        "    reversed_text += text[index]\n",
        "    index -= 1\n",
        "\n",
        "\n",
        "print(\"Reversed String:\", reversed_text)\n"
      ],
      "metadata": {
        "colab": {
          "base_uri": "https://localhost:8080/"
        },
        "id": "JliRxajaUY-3",
        "outputId": "c424e131-a186-4f95-87b3-435ed6b68911"
      },
      "execution_count": 15,
      "outputs": [
        {
          "output_type": "stream",
          "name": "stdout",
          "text": [
            "Enter a string: Sandesh\n",
            "Reversed String: hsednaS\n"
          ]
        }
      ]
    },
    {
      "cell_type": "markdown",
      "source": [
        "15. Write a Python program to calculate the factorial of a number provided by the user using a while loop."
      ],
      "metadata": {
        "id": "oYKCv2-kUZg6"
      }
    },
    {
      "cell_type": "code",
      "source": [
        "\n",
        "num = int(input(\"Enter a number: \"))\n",
        "\n",
        "factorial = 1\n",
        "i = num\n",
        "\n",
        "\n",
        "if num < 0:\n",
        "    print(\"Factorial is not defined for negative numbers.\")\n",
        "elif num == 0 or num == 1:\n",
        "    print(f\"Factorial of {num} is 1\")\n",
        "else:\n",
        "    while i > 1:\n",
        "        factorial *= i\n",
        "        i -= 1\n",
        "\n",
        "    print(f\"Factorial of {num} is {factorial}\")\n"
      ],
      "metadata": {
        "colab": {
          "base_uri": "https://localhost:8080/"
        },
        "id": "5rMLV9NkUaGf",
        "outputId": "837ce0a3-98e7-4494-aa00-126430a15ceb"
      },
      "execution_count": 16,
      "outputs": [
        {
          "output_type": "stream",
          "name": "stdout",
          "text": [
            "Enter a number: 5\n",
            "Factorial of 5 is 120\n"
          ]
        }
      ]
    }
  ]
}